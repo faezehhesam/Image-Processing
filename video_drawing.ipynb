{
 "cells": [
  {
   "cell_type": "code",
   "execution_count": 1,
   "id": "57f312c0-ca5b-4e4c-93b3-3510bea219b6",
   "metadata": {},
   "outputs": [],
   "source": [
    "import cv2 "
   ]
  },
  {
   "cell_type": "code",
   "execution_count": 4,
   "id": "15d73da2-b6bf-4308-acb2-5d3bdfea6346",
   "metadata": {},
   "outputs": [],
   "source": [
    "# callback function rectangle\n",
    "def draw_rectangle(event,x,y,flags,param):\n",
    "    \n",
    "    global pt1,pt2,topleft_clicked,botright_clicked\n",
    "    \n",
    "    if event==cv2.EVENT_LBUTTONDOWN:\n",
    "        \n",
    "        #RESET THE RECTANGLE(IT CHECK IF THE RESET THERE)\n",
    "        if topleft_clicked==True and botright_clicked==True:\n",
    "            pt1=(0,0)\n",
    "            pt2=(0,0)\n",
    "            topleft_clicked=False\n",
    "            botright_clicked=False\n",
    "        \n",
    "        if topleft_clicked==False:   \n",
    "            pt1=(x,y)\n",
    "            topleft_clicked=True\n",
    "            \n",
    "        elif botright_clicked==False:\n",
    "            pt2=(x,y)\n",
    "            botright_clicked=True\n",
    "            \n",
    "pt1=(0,0)\n",
    "pt2=(0,0)\n",
    "topleft_clicked=False\n",
    "botright_clicked=False\n",
    "\n",
    "cap=cv2.VideoCapture(0)\n",
    "cv2.namedWindow('Test')\n",
    "cv2.setMouseCallback('Test',draw_rectangle)\n",
    "\n",
    "while True:\n",
    "    \n",
    "    ret,frame=cap.read()\n",
    "    \n",
    "    #DRAWING ON THE FRAME BASED OFF THE GLOBAL VARIABLES\n",
    "    if topleft_clicked:\n",
    "        cv2.circle(frame,center=pt1,radius=5,color=(0,0,255),thickness=-1)\n",
    "    \n",
    "    if topleft_clicked and botright_clicked:\n",
    "        cv2.rectangle(frame,pt1,pt2,(0,0,255),3)\n",
    "        \n",
    "    cv2.imshow('Test',frame)\n",
    "    \n",
    "    if cv2.waitKey(1) & 0xFF == ord('q'):\n",
    "        break\n",
    "        \n",
    "cap.release()\n",
    "cv2.destroyAllWindows()\n",
    "    \n",
    "            "
   ]
  },
  {
   "cell_type": "code",
   "execution_count": null,
   "id": "c2c6984f-7d22-4fe4-ad7a-a28dd408ad96",
   "metadata": {},
   "outputs": [],
   "source": []
  },
  {
   "cell_type": "code",
   "execution_count": null,
   "id": "a3bbc262-e638-4fae-97ac-9797e75d0413",
   "metadata": {},
   "outputs": [],
   "source": []
  }
 ],
 "metadata": {
  "kernelspec": {
   "display_name": "Python 3 (ipykernel)",
   "language": "python",
   "name": "python3"
  },
  "language_info": {
   "codemirror_mode": {
    "name": "ipython",
    "version": 3
   },
   "file_extension": ".py",
   "mimetype": "text/x-python",
   "name": "python",
   "nbconvert_exporter": "python",
   "pygments_lexer": "ipython3",
   "version": "3.10.9"
  }
 },
 "nbformat": 4,
 "nbformat_minor": 5
}
