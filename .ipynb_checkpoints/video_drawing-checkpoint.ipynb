{
 "cells": [
  {
   "cell_type": "code",
   "execution_count": 1,
   "id": "57f312c0-ca5b-4e4c-93b3-3510bea219b6",
   "metadata": {},
   "outputs": [],
   "source": [
    "import cv2 "
   ]
  },
  {
   "cell_type": "code",
   "execution_count": 3,
   "id": "15d73da2-b6bf-4308-acb2-5d3bdfea6346",
   "metadata": {},
   "outputs": [
    {
     "ename": "NameError",
     "evalue": "name 'frame' is not defined",
     "output_type": "error",
     "traceback": [
      "\u001b[1;31m---------------------------------------------------------------------------\u001b[0m",
      "\u001b[1;31mNameError\u001b[0m                                 Traceback (most recent call last)",
      "Cell \u001b[1;32mIn[3], line 38\u001b[0m\n\u001b[0;32m     36\u001b[0m \u001b[38;5;66;03m#DRAWING ON THE FRAME BASED OFF THE GLOBAL VARIABLES\u001b[39;00m\n\u001b[0;32m     37\u001b[0m \u001b[38;5;28;01mif\u001b[39;00m topleft_clicked:\n\u001b[1;32m---> 38\u001b[0m     cv2\u001b[38;5;241m.\u001b[39mcircle(\u001b[43mframe\u001b[49m,center\u001b[38;5;241m=\u001b[39mpt1,radius\u001b[38;5;241m=\u001b[39m\u001b[38;5;241m5\u001b[39m,color\u001b[38;5;241m=\u001b[39m(\u001b[38;5;241m0\u001b[39m,\u001b[38;5;241m0\u001b[39m,\u001b[38;5;241m255\u001b[39m),thickness\u001b[38;5;241m=\u001b[39m\u001b[38;5;241m-\u001b[39m\u001b[38;5;241m1\u001b[39m)\n\u001b[0;32m     40\u001b[0m \u001b[38;5;28;01mif\u001b[39;00m topleft_clicked \u001b[38;5;129;01mand\u001b[39;00m botright_clicked:\n\u001b[0;32m     41\u001b[0m     cv2\u001b[38;5;241m.\u001b[39mrectangle(frame,pt1,pt2,(\u001b[38;5;241m0\u001b[39m,\u001b[38;5;241m0\u001b[39m,\u001b[38;5;241m255\u001b[39m),\u001b[38;5;241m3\u001b[39m)\n",
      "\u001b[1;31mNameError\u001b[0m: name 'frame' is not defined"
     ]
    }
   ],
   "source": [
    "# callback function rectangle\n",
    "def draw_rectangle(event,x,y,flags,param):\n",
    "    \n",
    "    global pt1,pt2,topleft_clicked,botright_clicked\n",
    "    \n",
    "    if event==cv2.EVENT_LBUTTONDOWN:\n",
    "        \n",
    "        #RESET THE RECTANGLE(IT CHECK IF THE RESET THERE)\n",
    "        if topleft_clicked==True and botright_clicked==True:\n",
    "            pt1=(0,0)\n",
    "            pt2=(0,0)\n",
    "            topleft_clicked=False\n",
    "            botright_clicked=False\n",
    "        \n",
    "        if topleft_clicked==False:   \n",
    "            pt1=(x,y)\n",
    "            topleft_clicked=True\n",
    "            \n",
    "        elif botright_clicked==False:\n",
    "            pt2=(x,y)\n",
    "            botright_clicked=True\n",
    "            \n",
    "pt1=(0,0)\n",
    "pt2=(0,0)\n",
    "topleft_clicked=False\n",
    "botright_clicked=False\n",
    "\n",
    "cap=cv2.VideoCapture(0)\n",
    "cv2.namedWindow('Test')\n",
    "cv2.setMouseCallback('Test',draw_rectangle)\n",
    "\n",
    "while True:\n",
    "    \n",
    "    ret,frame=cap.read()\n",
    "    \n",
    "    #DRAWING ON THE FRAME BASED OFF THE GLOBAL VARIABLES\n",
    "    if topleft_clicked:\n",
    "        cv2.circle(frame,center=pt1,radius=5,color=(0,0,255),thickness=-1)\n",
    "    \n",
    "    if topleft_clicked and botright_clicked:\n",
    "        cv2.rectangle(frame,pt1,pt2,(0,0,255),3)\n",
    "        \n",
    "    cv2.imshow('Test',frame)\n",
    "    \n",
    "    if cv2.waitKey(1) & 0xFF == ord('q'):\n",
    "        break\n",
    "        \n",
    "cap.release()\n",
    "cv2.destroyAllWindows()\n",
    "    \n",
    "            "
   ]
  },
  {
   "cell_type": "code",
   "execution_count": null,
   "id": "c2c6984f-7d22-4fe4-ad7a-a28dd408ad96",
   "metadata": {},
   "outputs": [],
   "source": []
  },
  {
   "cell_type": "code",
   "execution_count": null,
   "id": "a3bbc262-e638-4fae-97ac-9797e75d0413",
   "metadata": {},
   "outputs": [],
   "source": []
  }
 ],
 "metadata": {
  "kernelspec": {
   "display_name": "Python 3 (ipykernel)",
   "language": "python",
   "name": "python3"
  },
  "language_info": {
   "codemirror_mode": {
    "name": "ipython",
    "version": 3
   },
   "file_extension": ".py",
   "mimetype": "text/x-python",
   "name": "python",
   "nbconvert_exporter": "python",
   "pygments_lexer": "ipython3",
   "version": "3.10.9"
  }
 },
 "nbformat": 4,
 "nbformat_minor": 5
}
