{
 "cells": [
  {
   "cell_type": "code",
   "execution_count": 4,
   "id": "320e460b-1264-48dc-aeab-b34232666dd1",
   "metadata": {},
   "outputs": [],
   "source": [
    "import cv2\n",
    "import numpy as np\n",
    "\n",
    "#VARIABLES\n",
    "#True while mouse button down,False while mouse button up\n",
    "\n",
    "drawing = False\n",
    "ix = -1\n",
    "iy = -1\n",
    "\n",
    "#FUNCTION\n",
    "\n",
    "def draw_rectangle(event,x,y,flags,params):\n",
    "    \n",
    "    global ix,iy,drawing \n",
    "    \n",
    "    if event==cv2.EVENT_LBUTTONDOWN:\n",
    "        \n",
    "        drawing=True\n",
    "        ix,iy=x,y\n",
    "    \n",
    "    elif event==cv2.EVENT_MOUSEMOVE:\n",
    "        \n",
    "        if drawing==True:\n",
    "            cv2.rectangle(img,(ix,iy),(x,y),(0,255,0),-1)\n",
    "    \n",
    "    elif event==cv2.EVENT_LBUTTONUP:\n",
    "        \n",
    "        drawing=False\n",
    "        cv2.rectangle(img,(ix,iy),(x,y),(0,255,0),-1)\n",
    "        \n",
    "#SHOWING THE IMAGE BLACK\n",
    "\n",
    "img=np.zeros((512,512,3))\n",
    "cv2.namedWindow(winname='my_drawing')\n",
    "cv2.setMouseCallback('my_drawing',draw_rectangle)\n",
    "\n",
    "while True:\n",
    "    cv2.imshow('my_drawing',img)\n",
    "    if cv2.waitKey(1) & 0xFF == 27:\n",
    "        break\n",
    "\n",
    "cv2.destroyAllWindows()    \n",
    "    "
   ]
  },
  {
   "cell_type": "code",
   "execution_count": null,
   "id": "4c6ed2fe-263c-4de7-b9f6-60e9e92990c4",
   "metadata": {},
   "outputs": [],
   "source": []
  },
  {
   "cell_type": "code",
   "execution_count": null,
   "id": "cbcecea3-9887-414f-a9da-1ba3ab9f82db",
   "metadata": {},
   "outputs": [],
   "source": []
  }
 ],
 "metadata": {
  "kernelspec": {
   "display_name": "Python 3 (ipykernel)",
   "language": "python",
   "name": "python3"
  },
  "language_info": {
   "codemirror_mode": {
    "name": "ipython",
    "version": 3
   },
   "file_extension": ".py",
   "mimetype": "text/x-python",
   "name": "python",
   "nbconvert_exporter": "python",
   "pygments_lexer": "ipython3",
   "version": "3.10.9"
  }
 },
 "nbformat": 4,
 "nbformat_minor": 5
}
