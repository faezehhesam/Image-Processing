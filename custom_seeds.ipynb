{
 "cells": [
  {
   "cell_type": "code",
   "execution_count": 48,
   "id": "ac7c022e-9fe9-4ac4-9134-bbbab99dc060",
   "metadata": {},
   "outputs": [],
   "source": [
    "import cv2\n",
    "import numpy as np \n",
    "import matplotlib.pyplot as plt\n",
    "%matplotlib inline"
   ]
  },
  {
   "cell_type": "code",
   "execution_count": 50,
   "id": "685fa132-692b-47dd-aa1c-330583a58cd7",
   "metadata": {},
   "outputs": [],
   "source": [
    "road=cv2.imread('DATA/road_image.jpg')\n",
    "road_copy=np.copy(road)\n",
    "# plt.imshow(road)"
   ]
  },
  {
   "cell_type": "code",
   "execution_count": 51,
   "id": "9bf1b353-9d18-43fc-adb7-cd3fa305da5b",
   "metadata": {},
   "outputs": [
    {
     "data": {
      "text/plain": [
       "(600, 450)"
      ]
     },
     "execution_count": 73,
     "metadata": {},
     "output_type": "execute_result"
    }
   ],
   "source": [
    "road.shape[:2]"
   ]
  },
  {
   "cell_type": "code",
   "execution_count": 52,
   "id": "53dffffc-4455-4300-9c78-4dcefa8b7e77",
   "metadata": {},
   "outputs": [],
   "source": [
    "marker_image=np.zeros(road.shape[:2],dtype=np.int32)"
   ]
  },
  {
   "cell_type": "code",
   "execution_count": 53,
   "id": "fe45eb16-a2d5-4261-a87d-17547dbc8228",
   "metadata": {},
   "outputs": [],
   "source": [
    "segments=np.zeros(road.shape,dtype=np.uint8)"
   ]
  },
  {
   "cell_type": "code",
   "execution_count": 54,
   "id": "c8cd43c2-051c-495d-b4cc-230cb5900923",
   "metadata": {},
   "outputs": [
    {
     "data": {
      "text/plain": [
       "(600, 450)"
      ]
     },
     "execution_count": 76,
     "metadata": {},
     "output_type": "execute_result"
    }
   ],
   "source": [
    "marker_image.shape"
   ]
  },
  {
   "cell_type": "code",
   "execution_count": 55,
   "id": "faab30a1-919e-4b83-a084-7940395952e3",
   "metadata": {},
   "outputs": [
    {
     "data": {
      "text/plain": [
       "(600, 450, 3)"
      ]
     },
     "execution_count": 77,
     "metadata": {},
     "output_type": "execute_result"
    }
   ],
   "source": [
    "segments.shape"
   ]
  },
  {
   "cell_type": "code",
   "execution_count": 56,
   "id": "a56f2fcd-78d9-41f6-b1c0-ab1d6ca4c3ab",
   "metadata": {},
   "outputs": [],
   "source": [
    "from matplotlib import cm"
   ]
  },
  {
   "cell_type": "code",
   "execution_count": 57,
   "id": "4527b639-6a55-4dc4-9eb9-273493108bf7",
   "metadata": {},
   "outputs": [
    {
     "data": {
      "text/plain": [
       "(0.12156862745098039, 0.4666666666666667, 0.7058823529411765, 1.0)"
      ]
     },
     "execution_count": 79,
     "metadata": {},
     "output_type": "execute_result"
    }
   ],
   "source": [
    "cm.tab10(0)"
   ]
  },
  {
   "cell_type": "code",
   "execution_count": 58,
   "id": "cc164b4f-2936-4ab3-b490-f4a9d11e9fda",
   "metadata": {},
   "outputs": [],
   "source": [
    "def create_rgb(i):\n",
    "    return tuple(np.array(cm.tab10(i)[:3])*255)"
   ]
  },
  {
   "cell_type": "code",
   "execution_count": 59,
   "id": "cb166ea9-3622-43e6-8033-188b62086c68",
   "metadata": {},
   "outputs": [],
   "source": [
    "colors=[]\n",
    "for i in range(10):\n",
    "    colors.append(create_rgb(i))"
   ]
  },
  {
   "cell_type": "code",
   "execution_count": 60,
   "id": "4af38a1a-0b71-486d-91ce-b49449167d6f",
   "metadata": {},
   "outputs": [
    {
     "data": {
      "text/plain": [
       "[(31.0, 119.0, 180.0),\n",
       " (255.0, 127.0, 14.0),\n",
       " (44.0, 160.0, 44.0),\n",
       " (214.0, 39.0, 40.0),\n",
       " (148.0, 103.0, 189.0),\n",
       " (140.0, 86.0, 75.0),\n",
       " (227.0, 119.0, 194.0),\n",
       " (127.0, 127.0, 127.0),\n",
       " (188.0, 189.0, 34.0),\n",
       " (23.0, 190.0, 207.0)]"
      ]
     },
     "execution_count": 82,
     "metadata": {},
     "output_type": "execute_result"
    }
   ],
   "source": [
    "colors"
   ]
  },
  {
   "cell_type": "code",
   "execution_count": 44,
   "id": "2772470a-6ae0-4162-befa-f0c8bd3ccb0c",
   "metadata": {},
   "outputs": [],
   "source": [
    "n_markers=10 #0-9\n",
    "current_marker=1\n",
    "marks_updated=False"
   ]
  },
  {
   "cell_type": "code",
   "execution_count": 46,
   "id": "e0b28fcc-eb30-46bb-bf6e-b9dc07aa8837",
   "metadata": {},
   "outputs": [],
   "source": [
    "def mouse_callback(event,x,y,flags,param):\n",
    "    \n",
    "    global marks_updated\n",
    "    \n",
    "    if event==cv2.EVENT_LBUTTONDOWN:\n",
    "        cv2.circle(marker_image,(x,y),10,(current_marker),-1)\n",
    "        \n",
    "        cv2.circle(road_copy,(x,y),10,colors[current_marker],-1)\n",
    "        \n",
    "        marks_updated=True"
   ]
  },
  {
   "cell_type": "code",
   "execution_count": 93,
   "id": "e85069e9-4ee3-4f51-b5fb-68b6e83bf210",
   "metadata": {},
   "outputs": [],
   "source": [
    "cv2.namedWindow('Road Image')\n",
    "cv2.setMouseCallback('Road Image', mouse_callback)\n",
    "\n",
    "while True:\n",
    "    cv2.imshow('Watershed Segments',segments)\n",
    "    cv2.imshow('Road Image',road_copy)\n",
    "    \n",
    "    k=cv2.waitKey(1)\n",
    "    if k==27:\n",
    "        break\n",
    "    \n",
    "    elif k==ord('c'):\n",
    "        road_copy=road.copy()\n",
    "        marker_image=np.zeros(road.shape[:2],dtype=np.int32)\n",
    "        segments=np.zeros(road.shape,dtype=np.uint8)\n",
    "        \n",
    "    elif k>0 and chr(k).isdigit():\n",
    "        current_marker=int(chr(k))\n",
    "        \n",
    "    if marks_updated:\n",
    "        marker_image_copy=marker_image.copy()\n",
    "        cv2.watershed(road,marker_image_copy)\n",
    "        segments=np.zeros(road.shape,dtype=np.uint8)\n",
    "        \n",
    "        for color_ind in range(n_markers):\n",
    "            segments[marker_image_copy==(color_ind)]=colors[color_ind]\n",
    "            \n",
    "            \n",
    "cv2.destroyAllWindows()            "
   ]
  },
  {
   "cell_type": "code",
   "execution_count": null,
   "id": "84d5b198-8717-460c-9284-dcabab575435",
   "metadata": {},
   "outputs": [],
   "source": []
  }
 ],
 "metadata": {
  "kernelspec": {
   "display_name": "Python 3 (ipykernel)",
   "language": "python",
   "name": "python3"
  },
  "language_info": {
   "codemirror_mode": {
    "name": "ipython",
    "version": 3
   },
   "file_extension": ".py",
   "mimetype": "text/x-python",
   "name": "python",
   "nbconvert_exporter": "python",
   "pygments_lexer": "ipython3",
   "version": "3.10.9"
  }
 },
 "nbformat": 4,
 "nbformat_minor": 5
}
